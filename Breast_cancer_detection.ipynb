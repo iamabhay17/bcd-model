{
  "nbformat": 4,
  "nbformat_minor": 0,
  "metadata": {
    "colab": {
      "provenance": []
    },
    "kernelspec": {
      "name": "python3",
      "display_name": "Python 3"
    },
    "language_info": {
      "name": "python"
    }
  },
  "cells": [
    {
      "cell_type": "markdown",
      "source": [
        "# importing libraries and dataset"
      ],
      "metadata": {
        "id": "4XIyZ_AtObEt"
      }
    },
    {
      "cell_type": "code",
      "execution_count": 1,
      "metadata": {
        "id": "VPhoAmZSGs44"
      },
      "outputs": [],
      "source": [
        "import numpy as np\n",
        "import matplotlib.pyplot as plt\n",
        "import pandas as pd\n",
        "import sklearn.datasets\n",
        "from sklearn.model_selection import train_test_split"
      ]
    },
    {
      "cell_type": "code",
      "source": [
        "#importing dataset from sklearn\n",
        "\n",
        "dataset=sklearn.datasets.load_breast_cancer()\n",
        "print(dataset)"
      ],
      "metadata": {
        "colab": {
          "base_uri": "https://localhost:8080/"
        },
        "id": "9YunuHYkH3v8",
        "outputId": "7514d043-6aac-423a-ca95-15b382c76ec6"
      },
      "execution_count": 2,
      "outputs": [
        {
          "output_type": "stream",
          "name": "stdout",
          "text": [
            "{'data': array([[1.799e+01, 1.038e+01, 1.228e+02, ..., 2.654e-01, 4.601e-01,\n",
            "        1.189e-01],\n",
            "       [2.057e+01, 1.777e+01, 1.329e+02, ..., 1.860e-01, 2.750e-01,\n",
            "        8.902e-02],\n",
            "       [1.969e+01, 2.125e+01, 1.300e+02, ..., 2.430e-01, 3.613e-01,\n",
            "        8.758e-02],\n",
            "       ...,\n",
            "       [1.660e+01, 2.808e+01, 1.083e+02, ..., 1.418e-01, 2.218e-01,\n",
            "        7.820e-02],\n",
            "       [2.060e+01, 2.933e+01, 1.401e+02, ..., 2.650e-01, 4.087e-01,\n",
            "        1.240e-01],\n",
            "       [7.760e+00, 2.454e+01, 4.792e+01, ..., 0.000e+00, 2.871e-01,\n",
            "        7.039e-02]]), 'target': array([0, 0, 0, 0, 0, 0, 0, 0, 0, 0, 0, 0, 0, 0, 0, 0, 0, 0, 0, 1, 1, 1,\n",
            "       0, 0, 0, 0, 0, 0, 0, 0, 0, 0, 0, 0, 0, 0, 0, 1, 0, 0, 0, 0, 0, 0,\n",
            "       0, 0, 1, 0, 1, 1, 1, 1, 1, 0, 0, 1, 0, 0, 1, 1, 1, 1, 0, 1, 0, 0,\n",
            "       1, 1, 1, 1, 0, 1, 0, 0, 1, 0, 1, 0, 0, 1, 1, 1, 0, 0, 1, 0, 0, 0,\n",
            "       1, 1, 1, 0, 1, 1, 0, 0, 1, 1, 1, 0, 0, 1, 1, 1, 1, 0, 1, 1, 0, 1,\n",
            "       1, 1, 1, 1, 1, 1, 1, 0, 0, 0, 1, 0, 0, 1, 1, 1, 0, 0, 1, 0, 1, 0,\n",
            "       0, 1, 0, 0, 1, 1, 0, 1, 1, 0, 1, 1, 1, 1, 0, 1, 1, 1, 1, 1, 1, 1,\n",
            "       1, 1, 0, 1, 1, 1, 1, 0, 0, 1, 0, 1, 1, 0, 0, 1, 1, 0, 0, 1, 1, 1,\n",
            "       1, 0, 1, 1, 0, 0, 0, 1, 0, 1, 0, 1, 1, 1, 0, 1, 1, 0, 0, 1, 0, 0,\n",
            "       0, 0, 1, 0, 0, 0, 1, 0, 1, 0, 1, 1, 0, 1, 0, 0, 0, 0, 1, 1, 0, 0,\n",
            "       1, 1, 1, 0, 1, 1, 1, 1, 1, 0, 0, 1, 1, 0, 1, 1, 0, 0, 1, 0, 1, 1,\n",
            "       1, 1, 0, 1, 1, 1, 1, 1, 0, 1, 0, 0, 0, 0, 0, 0, 0, 0, 0, 0, 0, 0,\n",
            "       0, 0, 1, 1, 1, 1, 1, 1, 0, 1, 0, 1, 1, 0, 1, 1, 0, 1, 0, 0, 1, 1,\n",
            "       1, 1, 1, 1, 1, 1, 1, 1, 1, 1, 1, 0, 1, 1, 0, 1, 0, 1, 1, 1, 1, 1,\n",
            "       1, 1, 1, 1, 1, 1, 1, 1, 1, 0, 1, 1, 1, 0, 1, 0, 1, 1, 1, 1, 0, 0,\n",
            "       0, 1, 1, 1, 1, 0, 1, 0, 1, 0, 1, 1, 1, 0, 1, 1, 1, 1, 1, 1, 1, 0,\n",
            "       0, 0, 1, 1, 1, 1, 1, 1, 1, 1, 1, 1, 1, 0, 0, 1, 0, 0, 0, 1, 0, 0,\n",
            "       1, 1, 1, 1, 1, 0, 1, 1, 1, 1, 1, 0, 1, 1, 1, 0, 1, 1, 0, 0, 1, 1,\n",
            "       1, 1, 1, 1, 0, 1, 1, 1, 1, 1, 1, 1, 0, 1, 1, 1, 1, 1, 0, 1, 1, 0,\n",
            "       1, 1, 1, 1, 1, 1, 1, 1, 1, 1, 1, 1, 0, 1, 0, 0, 1, 0, 1, 1, 1, 1,\n",
            "       1, 0, 1, 1, 0, 1, 0, 1, 1, 0, 1, 0, 1, 1, 1, 1, 1, 1, 1, 1, 0, 0,\n",
            "       1, 1, 1, 1, 1, 1, 0, 1, 1, 1, 1, 1, 1, 1, 1, 1, 1, 0, 1, 1, 1, 1,\n",
            "       1, 1, 1, 0, 1, 0, 1, 1, 0, 1, 1, 1, 1, 1, 0, 0, 1, 0, 1, 0, 1, 1,\n",
            "       1, 1, 1, 0, 1, 1, 0, 1, 0, 1, 0, 0, 1, 1, 1, 0, 1, 1, 1, 1, 1, 1,\n",
            "       1, 1, 1, 1, 1, 0, 1, 0, 0, 1, 1, 1, 1, 1, 1, 1, 1, 1, 1, 1, 1, 1,\n",
            "       1, 1, 1, 1, 1, 1, 1, 1, 1, 1, 1, 1, 0, 0, 0, 0, 0, 0, 1]), 'frame': None, 'target_names': array(['malignant', 'benign'], dtype='<U9'), 'DESCR': '.. _breast_cancer_dataset:\\n\\nBreast cancer wisconsin (diagnostic) dataset\\n--------------------------------------------\\n\\n**Data Set Characteristics:**\\n\\n    :Number of Instances: 569\\n\\n    :Number of Attributes: 30 numeric, predictive attributes and the class\\n\\n    :Attribute Information:\\n        - radius (mean of distances from center to points on the perimeter)\\n        - texture (standard deviation of gray-scale values)\\n        - perimeter\\n        - area\\n        - smoothness (local variation in radius lengths)\\n        - compactness (perimeter^2 / area - 1.0)\\n        - concavity (severity of concave portions of the contour)\\n        - concave points (number of concave portions of the contour)\\n        - symmetry\\n        - fractal dimension (\"coastline approximation\" - 1)\\n\\n        The mean, standard error, and \"worst\" or largest (mean of the three\\n        worst/largest values) of these features were computed for each image,\\n        resulting in 30 features.  For instance, field 0 is Mean Radius, field\\n        10 is Radius SE, field 20 is Worst Radius.\\n\\n        - class:\\n                - WDBC-Malignant\\n                - WDBC-Benign\\n\\n    :Summary Statistics:\\n\\n    ===================================== ====== ======\\n                                           Min    Max\\n    ===================================== ====== ======\\n    radius (mean):                        6.981  28.11\\n    texture (mean):                       9.71   39.28\\n    perimeter (mean):                     43.79  188.5\\n    area (mean):                          143.5  2501.0\\n    smoothness (mean):                    0.053  0.163\\n    compactness (mean):                   0.019  0.345\\n    concavity (mean):                     0.0    0.427\\n    concave points (mean):                0.0    0.201\\n    symmetry (mean):                      0.106  0.304\\n    fractal dimension (mean):             0.05   0.097\\n    radius (standard error):              0.112  2.873\\n    texture (standard error):             0.36   4.885\\n    perimeter (standard error):           0.757  21.98\\n    area (standard error):                6.802  542.2\\n    smoothness (standard error):          0.002  0.031\\n    compactness (standard error):         0.002  0.135\\n    concavity (standard error):           0.0    0.396\\n    concave points (standard error):      0.0    0.053\\n    symmetry (standard error):            0.008  0.079\\n    fractal dimension (standard error):   0.001  0.03\\n    radius (worst):                       7.93   36.04\\n    texture (worst):                      12.02  49.54\\n    perimeter (worst):                    50.41  251.2\\n    area (worst):                         185.2  4254.0\\n    smoothness (worst):                   0.071  0.223\\n    compactness (worst):                  0.027  1.058\\n    concavity (worst):                    0.0    1.252\\n    concave points (worst):               0.0    0.291\\n    symmetry (worst):                     0.156  0.664\\n    fractal dimension (worst):            0.055  0.208\\n    ===================================== ====== ======\\n\\n    :Missing Attribute Values: None\\n\\n    :Class Distribution: 212 - Malignant, 357 - Benign\\n\\n    :Creator:  Dr. William H. Wolberg, W. Nick Street, Olvi L. Mangasarian\\n\\n    :Donor: Nick Street\\n\\n    :Date: November, 1995\\n\\nThis is a copy of UCI ML Breast Cancer Wisconsin (Diagnostic) datasets.\\nhttps://goo.gl/U2Uwz2\\n\\nFeatures are computed from a digitized image of a fine needle\\naspirate (FNA) of a breast mass.  They describe\\ncharacteristics of the cell nuclei present in the image.\\n\\nSeparating plane described above was obtained using\\nMultisurface Method-Tree (MSM-T) [K. P. Bennett, \"Decision Tree\\nConstruction Via Linear Programming.\" Proceedings of the 4th\\nMidwest Artificial Intelligence and Cognitive Science Society,\\npp. 97-101, 1992], a classification method which uses linear\\nprogramming to construct a decision tree.  Relevant features\\nwere selected using an exhaustive search in the space of 1-4\\nfeatures and 1-3 separating planes.\\n\\nThe actual linear program used to obtain the separating plane\\nin the 3-dimensional space is that described in:\\n[K. P. Bennett and O. L. Mangasarian: \"Robust Linear\\nProgramming Discrimination of Two Linearly Inseparable Sets\",\\nOptimization Methods and Software 1, 1992, 23-34].\\n\\nThis database is also available through the UW CS ftp server:\\n\\nftp ftp.cs.wisc.edu\\ncd math-prog/cpo-dataset/machine-learn/WDBC/\\n\\n.. topic:: References\\n\\n   - W.N. Street, W.H. Wolberg and O.L. Mangasarian. Nuclear feature extraction \\n     for breast tumor diagnosis. IS&T/SPIE 1993 International Symposium on \\n     Electronic Imaging: Science and Technology, volume 1905, pages 861-870,\\n     San Jose, CA, 1993.\\n   - O.L. Mangasarian, W.N. Street and W.H. Wolberg. Breast cancer diagnosis and \\n     prognosis via linear programming. Operations Research, 43(4), pages 570-577, \\n     July-August 1995.\\n   - W.H. Wolberg, W.N. Street, and O.L. Mangasarian. Machine learning techniques\\n     to diagnose breast cancer from fine-needle aspirates. Cancer Letters 77 (1994) \\n     163-171.', 'feature_names': array(['mean radius', 'mean texture', 'mean perimeter', 'mean area',\n",
            "       'mean smoothness', 'mean compactness', 'mean concavity',\n",
            "       'mean concave points', 'mean symmetry', 'mean fractal dimension',\n",
            "       'radius error', 'texture error', 'perimeter error', 'area error',\n",
            "       'smoothness error', 'compactness error', 'concavity error',\n",
            "       'concave points error', 'symmetry error',\n",
            "       'fractal dimension error', 'worst radius', 'worst texture',\n",
            "       'worst perimeter', 'worst area', 'worst smoothness',\n",
            "       'worst compactness', 'worst concavity', 'worst concave points',\n",
            "       'worst symmetry', 'worst fractal dimension'], dtype='<U23'), 'filename': 'breast_cancer.csv', 'data_module': 'sklearn.datasets.data'}\n"
          ]
        }
      ]
    },
    {
      "cell_type": "code",
      "source": [
        "# loading data into dataframe\n",
        "\n",
        "df=pd.DataFrame(dataset.data,columns=dataset.feature_names)"
      ],
      "metadata": {
        "id": "EADimpwZImpp"
      },
      "execution_count": 3,
      "outputs": []
    },
    {
      "cell_type": "code",
      "source": [
        "# checking data\n",
        "\n",
        "df.head()"
      ],
      "metadata": {
        "colab": {
          "base_uri": "https://localhost:8080/",
          "height": 334
        },
        "id": "NmWjJMYWI-Kb",
        "outputId": "3509a444-1f62-4a15-8c42-cead03ef67f5"
      },
      "execution_count": 4,
      "outputs": [
        {
          "output_type": "execute_result",
          "data": {
            "text/plain": [
              "   mean radius  mean texture  mean perimeter  mean area  mean smoothness  \\\n",
              "0        17.99         10.38          122.80     1001.0          0.11840   \n",
              "1        20.57         17.77          132.90     1326.0          0.08474   \n",
              "2        19.69         21.25          130.00     1203.0          0.10960   \n",
              "3        11.42         20.38           77.58      386.1          0.14250   \n",
              "4        20.29         14.34          135.10     1297.0          0.10030   \n",
              "\n",
              "   mean compactness  mean concavity  mean concave points  mean symmetry  \\\n",
              "0           0.27760          0.3001              0.14710         0.2419   \n",
              "1           0.07864          0.0869              0.07017         0.1812   \n",
              "2           0.15990          0.1974              0.12790         0.2069   \n",
              "3           0.28390          0.2414              0.10520         0.2597   \n",
              "4           0.13280          0.1980              0.10430         0.1809   \n",
              "\n",
              "   mean fractal dimension  ...  worst radius  worst texture  worst perimeter  \\\n",
              "0                 0.07871  ...         25.38          17.33           184.60   \n",
              "1                 0.05667  ...         24.99          23.41           158.80   \n",
              "2                 0.05999  ...         23.57          25.53           152.50   \n",
              "3                 0.09744  ...         14.91          26.50            98.87   \n",
              "4                 0.05883  ...         22.54          16.67           152.20   \n",
              "\n",
              "   worst area  worst smoothness  worst compactness  worst concavity  \\\n",
              "0      2019.0            0.1622             0.6656           0.7119   \n",
              "1      1956.0            0.1238             0.1866           0.2416   \n",
              "2      1709.0            0.1444             0.4245           0.4504   \n",
              "3       567.7            0.2098             0.8663           0.6869   \n",
              "4      1575.0            0.1374             0.2050           0.4000   \n",
              "\n",
              "   worst concave points  worst symmetry  worst fractal dimension  \n",
              "0                0.2654          0.4601                  0.11890  \n",
              "1                0.1860          0.2750                  0.08902  \n",
              "2                0.2430          0.3613                  0.08758  \n",
              "3                0.2575          0.6638                  0.17300  \n",
              "4                0.1625          0.2364                  0.07678  \n",
              "\n",
              "[5 rows x 30 columns]"
            ],
            "text/html": [
              "\n",
              "  <div id=\"df-c100fd56-389c-47e9-ba61-3bc3380e9bf3\">\n",
              "    <div class=\"colab-df-container\">\n",
              "      <div>\n",
              "<style scoped>\n",
              "    .dataframe tbody tr th:only-of-type {\n",
              "        vertical-align: middle;\n",
              "    }\n",
              "\n",
              "    .dataframe tbody tr th {\n",
              "        vertical-align: top;\n",
              "    }\n",
              "\n",
              "    .dataframe thead th {\n",
              "        text-align: right;\n",
              "    }\n",
              "</style>\n",
              "<table border=\"1\" class=\"dataframe\">\n",
              "  <thead>\n",
              "    <tr style=\"text-align: right;\">\n",
              "      <th></th>\n",
              "      <th>mean radius</th>\n",
              "      <th>mean texture</th>\n",
              "      <th>mean perimeter</th>\n",
              "      <th>mean area</th>\n",
              "      <th>mean smoothness</th>\n",
              "      <th>mean compactness</th>\n",
              "      <th>mean concavity</th>\n",
              "      <th>mean concave points</th>\n",
              "      <th>mean symmetry</th>\n",
              "      <th>mean fractal dimension</th>\n",
              "      <th>...</th>\n",
              "      <th>worst radius</th>\n",
              "      <th>worst texture</th>\n",
              "      <th>worst perimeter</th>\n",
              "      <th>worst area</th>\n",
              "      <th>worst smoothness</th>\n",
              "      <th>worst compactness</th>\n",
              "      <th>worst concavity</th>\n",
              "      <th>worst concave points</th>\n",
              "      <th>worst symmetry</th>\n",
              "      <th>worst fractal dimension</th>\n",
              "    </tr>\n",
              "  </thead>\n",
              "  <tbody>\n",
              "    <tr>\n",
              "      <th>0</th>\n",
              "      <td>17.99</td>\n",
              "      <td>10.38</td>\n",
              "      <td>122.80</td>\n",
              "      <td>1001.0</td>\n",
              "      <td>0.11840</td>\n",
              "      <td>0.27760</td>\n",
              "      <td>0.3001</td>\n",
              "      <td>0.14710</td>\n",
              "      <td>0.2419</td>\n",
              "      <td>0.07871</td>\n",
              "      <td>...</td>\n",
              "      <td>25.38</td>\n",
              "      <td>17.33</td>\n",
              "      <td>184.60</td>\n",
              "      <td>2019.0</td>\n",
              "      <td>0.1622</td>\n",
              "      <td>0.6656</td>\n",
              "      <td>0.7119</td>\n",
              "      <td>0.2654</td>\n",
              "      <td>0.4601</td>\n",
              "      <td>0.11890</td>\n",
              "    </tr>\n",
              "    <tr>\n",
              "      <th>1</th>\n",
              "      <td>20.57</td>\n",
              "      <td>17.77</td>\n",
              "      <td>132.90</td>\n",
              "      <td>1326.0</td>\n",
              "      <td>0.08474</td>\n",
              "      <td>0.07864</td>\n",
              "      <td>0.0869</td>\n",
              "      <td>0.07017</td>\n",
              "      <td>0.1812</td>\n",
              "      <td>0.05667</td>\n",
              "      <td>...</td>\n",
              "      <td>24.99</td>\n",
              "      <td>23.41</td>\n",
              "      <td>158.80</td>\n",
              "      <td>1956.0</td>\n",
              "      <td>0.1238</td>\n",
              "      <td>0.1866</td>\n",
              "      <td>0.2416</td>\n",
              "      <td>0.1860</td>\n",
              "      <td>0.2750</td>\n",
              "      <td>0.08902</td>\n",
              "    </tr>\n",
              "    <tr>\n",
              "      <th>2</th>\n",
              "      <td>19.69</td>\n",
              "      <td>21.25</td>\n",
              "      <td>130.00</td>\n",
              "      <td>1203.0</td>\n",
              "      <td>0.10960</td>\n",
              "      <td>0.15990</td>\n",
              "      <td>0.1974</td>\n",
              "      <td>0.12790</td>\n",
              "      <td>0.2069</td>\n",
              "      <td>0.05999</td>\n",
              "      <td>...</td>\n",
              "      <td>23.57</td>\n",
              "      <td>25.53</td>\n",
              "      <td>152.50</td>\n",
              "      <td>1709.0</td>\n",
              "      <td>0.1444</td>\n",
              "      <td>0.4245</td>\n",
              "      <td>0.4504</td>\n",
              "      <td>0.2430</td>\n",
              "      <td>0.3613</td>\n",
              "      <td>0.08758</td>\n",
              "    </tr>\n",
              "    <tr>\n",
              "      <th>3</th>\n",
              "      <td>11.42</td>\n",
              "      <td>20.38</td>\n",
              "      <td>77.58</td>\n",
              "      <td>386.1</td>\n",
              "      <td>0.14250</td>\n",
              "      <td>0.28390</td>\n",
              "      <td>0.2414</td>\n",
              "      <td>0.10520</td>\n",
              "      <td>0.2597</td>\n",
              "      <td>0.09744</td>\n",
              "      <td>...</td>\n",
              "      <td>14.91</td>\n",
              "      <td>26.50</td>\n",
              "      <td>98.87</td>\n",
              "      <td>567.7</td>\n",
              "      <td>0.2098</td>\n",
              "      <td>0.8663</td>\n",
              "      <td>0.6869</td>\n",
              "      <td>0.2575</td>\n",
              "      <td>0.6638</td>\n",
              "      <td>0.17300</td>\n",
              "    </tr>\n",
              "    <tr>\n",
              "      <th>4</th>\n",
              "      <td>20.29</td>\n",
              "      <td>14.34</td>\n",
              "      <td>135.10</td>\n",
              "      <td>1297.0</td>\n",
              "      <td>0.10030</td>\n",
              "      <td>0.13280</td>\n",
              "      <td>0.1980</td>\n",
              "      <td>0.10430</td>\n",
              "      <td>0.1809</td>\n",
              "      <td>0.05883</td>\n",
              "      <td>...</td>\n",
              "      <td>22.54</td>\n",
              "      <td>16.67</td>\n",
              "      <td>152.20</td>\n",
              "      <td>1575.0</td>\n",
              "      <td>0.1374</td>\n",
              "      <td>0.2050</td>\n",
              "      <td>0.4000</td>\n",
              "      <td>0.1625</td>\n",
              "      <td>0.2364</td>\n",
              "      <td>0.07678</td>\n",
              "    </tr>\n",
              "  </tbody>\n",
              "</table>\n",
              "<p>5 rows × 30 columns</p>\n",
              "</div>\n",
              "      <button class=\"colab-df-convert\" onclick=\"convertToInteractive('df-c100fd56-389c-47e9-ba61-3bc3380e9bf3')\"\n",
              "              title=\"Convert this dataframe to an interactive table.\"\n",
              "              style=\"display:none;\">\n",
              "        \n",
              "  <svg xmlns=\"http://www.w3.org/2000/svg\" height=\"24px\"viewBox=\"0 0 24 24\"\n",
              "       width=\"24px\">\n",
              "    <path d=\"M0 0h24v24H0V0z\" fill=\"none\"/>\n",
              "    <path d=\"M18.56 5.44l.94 2.06.94-2.06 2.06-.94-2.06-.94-.94-2.06-.94 2.06-2.06.94zm-11 1L8.5 8.5l.94-2.06 2.06-.94-2.06-.94L8.5 2.5l-.94 2.06-2.06.94zm10 10l.94 2.06.94-2.06 2.06-.94-2.06-.94-.94-2.06-.94 2.06-2.06.94z\"/><path d=\"M17.41 7.96l-1.37-1.37c-.4-.4-.92-.59-1.43-.59-.52 0-1.04.2-1.43.59L10.3 9.45l-7.72 7.72c-.78.78-.78 2.05 0 2.83L4 21.41c.39.39.9.59 1.41.59.51 0 1.02-.2 1.41-.59l7.78-7.78 2.81-2.81c.8-.78.8-2.07 0-2.86zM5.41 20L4 18.59l7.72-7.72 1.47 1.35L5.41 20z\"/>\n",
              "  </svg>\n",
              "      </button>\n",
              "      \n",
              "  <style>\n",
              "    .colab-df-container {\n",
              "      display:flex;\n",
              "      flex-wrap:wrap;\n",
              "      gap: 12px;\n",
              "    }\n",
              "\n",
              "    .colab-df-convert {\n",
              "      background-color: #E8F0FE;\n",
              "      border: none;\n",
              "      border-radius: 50%;\n",
              "      cursor: pointer;\n",
              "      display: none;\n",
              "      fill: #1967D2;\n",
              "      height: 32px;\n",
              "      padding: 0 0 0 0;\n",
              "      width: 32px;\n",
              "    }\n",
              "\n",
              "    .colab-df-convert:hover {\n",
              "      background-color: #E2EBFA;\n",
              "      box-shadow: 0px 1px 2px rgba(60, 64, 67, 0.3), 0px 1px 3px 1px rgba(60, 64, 67, 0.15);\n",
              "      fill: #174EA6;\n",
              "    }\n",
              "\n",
              "    [theme=dark] .colab-df-convert {\n",
              "      background-color: #3B4455;\n",
              "      fill: #D2E3FC;\n",
              "    }\n",
              "\n",
              "    [theme=dark] .colab-df-convert:hover {\n",
              "      background-color: #434B5C;\n",
              "      box-shadow: 0px 1px 3px 1px rgba(0, 0, 0, 0.15);\n",
              "      filter: drop-shadow(0px 1px 2px rgba(0, 0, 0, 0.3));\n",
              "      fill: #FFFFFF;\n",
              "    }\n",
              "  </style>\n",
              "\n",
              "      <script>\n",
              "        const buttonEl =\n",
              "          document.querySelector('#df-c100fd56-389c-47e9-ba61-3bc3380e9bf3 button.colab-df-convert');\n",
              "        buttonEl.style.display =\n",
              "          google.colab.kernel.accessAllowed ? 'block' : 'none';\n",
              "\n",
              "        async function convertToInteractive(key) {\n",
              "          const element = document.querySelector('#df-c100fd56-389c-47e9-ba61-3bc3380e9bf3');\n",
              "          const dataTable =\n",
              "            await google.colab.kernel.invokeFunction('convertToInteractive',\n",
              "                                                     [key], {});\n",
              "          if (!dataTable) return;\n",
              "\n",
              "          const docLinkHtml = 'Like what you see? Visit the ' +\n",
              "            '<a target=\"_blank\" href=https://colab.research.google.com/notebooks/data_table.ipynb>data table notebook</a>'\n",
              "            + ' to learn more about interactive tables.';\n",
              "          element.innerHTML = '';\n",
              "          dataTable['output_type'] = 'display_data';\n",
              "          await google.colab.output.renderOutput(dataTable, element);\n",
              "          const docLink = document.createElement('div');\n",
              "          docLink.innerHTML = docLinkHtml;\n",
              "          element.appendChild(docLink);\n",
              "        }\n",
              "      </script>\n",
              "    </div>\n",
              "  </div>\n",
              "  "
            ]
          },
          "metadata": {},
          "execution_count": 4
        }
      ]
    },
    {
      "cell_type": "code",
      "source": [
        "# adding target column to dataset\n",
        "\n",
        "df['label']=dataset.target"
      ],
      "metadata": {
        "id": "mj1PVWvjJ3Kb"
      },
      "execution_count": 5,
      "outputs": []
    },
    {
      "cell_type": "code",
      "source": [
        "# printing last 5 rows of dataframe\n",
        "\n",
        "df.tail()"
      ],
      "metadata": {
        "colab": {
          "base_uri": "https://localhost:8080/",
          "height": 334
        },
        "id": "26rggzPvKFVJ",
        "outputId": "bdd8fcbf-5083-407c-be60-1a83877ec555"
      },
      "execution_count": 6,
      "outputs": [
        {
          "output_type": "execute_result",
          "data": {
            "text/plain": [
              "     mean radius  mean texture  mean perimeter  mean area  mean smoothness  \\\n",
              "564        21.56         22.39          142.00     1479.0          0.11100   \n",
              "565        20.13         28.25          131.20     1261.0          0.09780   \n",
              "566        16.60         28.08          108.30      858.1          0.08455   \n",
              "567        20.60         29.33          140.10     1265.0          0.11780   \n",
              "568         7.76         24.54           47.92      181.0          0.05263   \n",
              "\n",
              "     mean compactness  mean concavity  mean concave points  mean symmetry  \\\n",
              "564           0.11590         0.24390              0.13890         0.1726   \n",
              "565           0.10340         0.14400              0.09791         0.1752   \n",
              "566           0.10230         0.09251              0.05302         0.1590   \n",
              "567           0.27700         0.35140              0.15200         0.2397   \n",
              "568           0.04362         0.00000              0.00000         0.1587   \n",
              "\n",
              "     mean fractal dimension  ...  worst texture  worst perimeter  worst area  \\\n",
              "564                 0.05623  ...          26.40           166.10      2027.0   \n",
              "565                 0.05533  ...          38.25           155.00      1731.0   \n",
              "566                 0.05648  ...          34.12           126.70      1124.0   \n",
              "567                 0.07016  ...          39.42           184.60      1821.0   \n",
              "568                 0.05884  ...          30.37            59.16       268.6   \n",
              "\n",
              "     worst smoothness  worst compactness  worst concavity  \\\n",
              "564           0.14100            0.21130           0.4107   \n",
              "565           0.11660            0.19220           0.3215   \n",
              "566           0.11390            0.30940           0.3403   \n",
              "567           0.16500            0.86810           0.9387   \n",
              "568           0.08996            0.06444           0.0000   \n",
              "\n",
              "     worst concave points  worst symmetry  worst fractal dimension  label  \n",
              "564                0.2216          0.2060                  0.07115      0  \n",
              "565                0.1628          0.2572                  0.06637      0  \n",
              "566                0.1418          0.2218                  0.07820      0  \n",
              "567                0.2650          0.4087                  0.12400      0  \n",
              "568                0.0000          0.2871                  0.07039      1  \n",
              "\n",
              "[5 rows x 31 columns]"
            ],
            "text/html": [
              "\n",
              "  <div id=\"df-28fe5e34-c1d3-484a-91f9-8863a59cbc3e\">\n",
              "    <div class=\"colab-df-container\">\n",
              "      <div>\n",
              "<style scoped>\n",
              "    .dataframe tbody tr th:only-of-type {\n",
              "        vertical-align: middle;\n",
              "    }\n",
              "\n",
              "    .dataframe tbody tr th {\n",
              "        vertical-align: top;\n",
              "    }\n",
              "\n",
              "    .dataframe thead th {\n",
              "        text-align: right;\n",
              "    }\n",
              "</style>\n",
              "<table border=\"1\" class=\"dataframe\">\n",
              "  <thead>\n",
              "    <tr style=\"text-align: right;\">\n",
              "      <th></th>\n",
              "      <th>mean radius</th>\n",
              "      <th>mean texture</th>\n",
              "      <th>mean perimeter</th>\n",
              "      <th>mean area</th>\n",
              "      <th>mean smoothness</th>\n",
              "      <th>mean compactness</th>\n",
              "      <th>mean concavity</th>\n",
              "      <th>mean concave points</th>\n",
              "      <th>mean symmetry</th>\n",
              "      <th>mean fractal dimension</th>\n",
              "      <th>...</th>\n",
              "      <th>worst texture</th>\n",
              "      <th>worst perimeter</th>\n",
              "      <th>worst area</th>\n",
              "      <th>worst smoothness</th>\n",
              "      <th>worst compactness</th>\n",
              "      <th>worst concavity</th>\n",
              "      <th>worst concave points</th>\n",
              "      <th>worst symmetry</th>\n",
              "      <th>worst fractal dimension</th>\n",
              "      <th>label</th>\n",
              "    </tr>\n",
              "  </thead>\n",
              "  <tbody>\n",
              "    <tr>\n",
              "      <th>564</th>\n",
              "      <td>21.56</td>\n",
              "      <td>22.39</td>\n",
              "      <td>142.00</td>\n",
              "      <td>1479.0</td>\n",
              "      <td>0.11100</td>\n",
              "      <td>0.11590</td>\n",
              "      <td>0.24390</td>\n",
              "      <td>0.13890</td>\n",
              "      <td>0.1726</td>\n",
              "      <td>0.05623</td>\n",
              "      <td>...</td>\n",
              "      <td>26.40</td>\n",
              "      <td>166.10</td>\n",
              "      <td>2027.0</td>\n",
              "      <td>0.14100</td>\n",
              "      <td>0.21130</td>\n",
              "      <td>0.4107</td>\n",
              "      <td>0.2216</td>\n",
              "      <td>0.2060</td>\n",
              "      <td>0.07115</td>\n",
              "      <td>0</td>\n",
              "    </tr>\n",
              "    <tr>\n",
              "      <th>565</th>\n",
              "      <td>20.13</td>\n",
              "      <td>28.25</td>\n",
              "      <td>131.20</td>\n",
              "      <td>1261.0</td>\n",
              "      <td>0.09780</td>\n",
              "      <td>0.10340</td>\n",
              "      <td>0.14400</td>\n",
              "      <td>0.09791</td>\n",
              "      <td>0.1752</td>\n",
              "      <td>0.05533</td>\n",
              "      <td>...</td>\n",
              "      <td>38.25</td>\n",
              "      <td>155.00</td>\n",
              "      <td>1731.0</td>\n",
              "      <td>0.11660</td>\n",
              "      <td>0.19220</td>\n",
              "      <td>0.3215</td>\n",
              "      <td>0.1628</td>\n",
              "      <td>0.2572</td>\n",
              "      <td>0.06637</td>\n",
              "      <td>0</td>\n",
              "    </tr>\n",
              "    <tr>\n",
              "      <th>566</th>\n",
              "      <td>16.60</td>\n",
              "      <td>28.08</td>\n",
              "      <td>108.30</td>\n",
              "      <td>858.1</td>\n",
              "      <td>0.08455</td>\n",
              "      <td>0.10230</td>\n",
              "      <td>0.09251</td>\n",
              "      <td>0.05302</td>\n",
              "      <td>0.1590</td>\n",
              "      <td>0.05648</td>\n",
              "      <td>...</td>\n",
              "      <td>34.12</td>\n",
              "      <td>126.70</td>\n",
              "      <td>1124.0</td>\n",
              "      <td>0.11390</td>\n",
              "      <td>0.30940</td>\n",
              "      <td>0.3403</td>\n",
              "      <td>0.1418</td>\n",
              "      <td>0.2218</td>\n",
              "      <td>0.07820</td>\n",
              "      <td>0</td>\n",
              "    </tr>\n",
              "    <tr>\n",
              "      <th>567</th>\n",
              "      <td>20.60</td>\n",
              "      <td>29.33</td>\n",
              "      <td>140.10</td>\n",
              "      <td>1265.0</td>\n",
              "      <td>0.11780</td>\n",
              "      <td>0.27700</td>\n",
              "      <td>0.35140</td>\n",
              "      <td>0.15200</td>\n",
              "      <td>0.2397</td>\n",
              "      <td>0.07016</td>\n",
              "      <td>...</td>\n",
              "      <td>39.42</td>\n",
              "      <td>184.60</td>\n",
              "      <td>1821.0</td>\n",
              "      <td>0.16500</td>\n",
              "      <td>0.86810</td>\n",
              "      <td>0.9387</td>\n",
              "      <td>0.2650</td>\n",
              "      <td>0.4087</td>\n",
              "      <td>0.12400</td>\n",
              "      <td>0</td>\n",
              "    </tr>\n",
              "    <tr>\n",
              "      <th>568</th>\n",
              "      <td>7.76</td>\n",
              "      <td>24.54</td>\n",
              "      <td>47.92</td>\n",
              "      <td>181.0</td>\n",
              "      <td>0.05263</td>\n",
              "      <td>0.04362</td>\n",
              "      <td>0.00000</td>\n",
              "      <td>0.00000</td>\n",
              "      <td>0.1587</td>\n",
              "      <td>0.05884</td>\n",
              "      <td>...</td>\n",
              "      <td>30.37</td>\n",
              "      <td>59.16</td>\n",
              "      <td>268.6</td>\n",
              "      <td>0.08996</td>\n",
              "      <td>0.06444</td>\n",
              "      <td>0.0000</td>\n",
              "      <td>0.0000</td>\n",
              "      <td>0.2871</td>\n",
              "      <td>0.07039</td>\n",
              "      <td>1</td>\n",
              "    </tr>\n",
              "  </tbody>\n",
              "</table>\n",
              "<p>5 rows × 31 columns</p>\n",
              "</div>\n",
              "      <button class=\"colab-df-convert\" onclick=\"convertToInteractive('df-28fe5e34-c1d3-484a-91f9-8863a59cbc3e')\"\n",
              "              title=\"Convert this dataframe to an interactive table.\"\n",
              "              style=\"display:none;\">\n",
              "        \n",
              "  <svg xmlns=\"http://www.w3.org/2000/svg\" height=\"24px\"viewBox=\"0 0 24 24\"\n",
              "       width=\"24px\">\n",
              "    <path d=\"M0 0h24v24H0V0z\" fill=\"none\"/>\n",
              "    <path d=\"M18.56 5.44l.94 2.06.94-2.06 2.06-.94-2.06-.94-.94-2.06-.94 2.06-2.06.94zm-11 1L8.5 8.5l.94-2.06 2.06-.94-2.06-.94L8.5 2.5l-.94 2.06-2.06.94zm10 10l.94 2.06.94-2.06 2.06-.94-2.06-.94-.94-2.06-.94 2.06-2.06.94z\"/><path d=\"M17.41 7.96l-1.37-1.37c-.4-.4-.92-.59-1.43-.59-.52 0-1.04.2-1.43.59L10.3 9.45l-7.72 7.72c-.78.78-.78 2.05 0 2.83L4 21.41c.39.39.9.59 1.41.59.51 0 1.02-.2 1.41-.59l7.78-7.78 2.81-2.81c.8-.78.8-2.07 0-2.86zM5.41 20L4 18.59l7.72-7.72 1.47 1.35L5.41 20z\"/>\n",
              "  </svg>\n",
              "      </button>\n",
              "      \n",
              "  <style>\n",
              "    .colab-df-container {\n",
              "      display:flex;\n",
              "      flex-wrap:wrap;\n",
              "      gap: 12px;\n",
              "    }\n",
              "\n",
              "    .colab-df-convert {\n",
              "      background-color: #E8F0FE;\n",
              "      border: none;\n",
              "      border-radius: 50%;\n",
              "      cursor: pointer;\n",
              "      display: none;\n",
              "      fill: #1967D2;\n",
              "      height: 32px;\n",
              "      padding: 0 0 0 0;\n",
              "      width: 32px;\n",
              "    }\n",
              "\n",
              "    .colab-df-convert:hover {\n",
              "      background-color: #E2EBFA;\n",
              "      box-shadow: 0px 1px 2px rgba(60, 64, 67, 0.3), 0px 1px 3px 1px rgba(60, 64, 67, 0.15);\n",
              "      fill: #174EA6;\n",
              "    }\n",
              "\n",
              "    [theme=dark] .colab-df-convert {\n",
              "      background-color: #3B4455;\n",
              "      fill: #D2E3FC;\n",
              "    }\n",
              "\n",
              "    [theme=dark] .colab-df-convert:hover {\n",
              "      background-color: #434B5C;\n",
              "      box-shadow: 0px 1px 3px 1px rgba(0, 0, 0, 0.15);\n",
              "      filter: drop-shadow(0px 1px 2px rgba(0, 0, 0, 0.3));\n",
              "      fill: #FFFFFF;\n",
              "    }\n",
              "  </style>\n",
              "\n",
              "      <script>\n",
              "        const buttonEl =\n",
              "          document.querySelector('#df-28fe5e34-c1d3-484a-91f9-8863a59cbc3e button.colab-df-convert');\n",
              "        buttonEl.style.display =\n",
              "          google.colab.kernel.accessAllowed ? 'block' : 'none';\n",
              "\n",
              "        async function convertToInteractive(key) {\n",
              "          const element = document.querySelector('#df-28fe5e34-c1d3-484a-91f9-8863a59cbc3e');\n",
              "          const dataTable =\n",
              "            await google.colab.kernel.invokeFunction('convertToInteractive',\n",
              "                                                     [key], {});\n",
              "          if (!dataTable) return;\n",
              "\n",
              "          const docLinkHtml = 'Like what you see? Visit the ' +\n",
              "            '<a target=\"_blank\" href=https://colab.research.google.com/notebooks/data_table.ipynb>data table notebook</a>'\n",
              "            + ' to learn more about interactive tables.';\n",
              "          element.innerHTML = '';\n",
              "          dataTable['output_type'] = 'display_data';\n",
              "          await google.colab.output.renderOutput(dataTable, element);\n",
              "          const docLink = document.createElement('div');\n",
              "          docLink.innerHTML = docLinkHtml;\n",
              "          element.appendChild(docLink);\n",
              "        }\n",
              "      </script>\n",
              "    </div>\n",
              "  </div>\n",
              "  "
            ]
          },
          "metadata": {},
          "execution_count": 6
        }
      ]
    },
    {
      "cell_type": "markdown",
      "source": [
        "# information on dataframe"
      ],
      "metadata": {
        "id": "JRstZmnAOkFY"
      }
    },
    {
      "cell_type": "code",
      "source": [
        "# number of rows and column\n",
        "df.shape\n",
        "# imfo of dataframe\n",
        "df.info()"
      ],
      "metadata": {
        "colab": {
          "base_uri": "https://localhost:8080/"
        },
        "id": "3JaVNYwlKijS",
        "outputId": "d1c154ec-08a1-4cc7-8b45-9e8b1682db4e"
      },
      "execution_count": 7,
      "outputs": [
        {
          "output_type": "stream",
          "name": "stdout",
          "text": [
            "<class 'pandas.core.frame.DataFrame'>\n",
            "RangeIndex: 569 entries, 0 to 568\n",
            "Data columns (total 31 columns):\n",
            " #   Column                   Non-Null Count  Dtype  \n",
            "---  ------                   --------------  -----  \n",
            " 0   mean radius              569 non-null    float64\n",
            " 1   mean texture             569 non-null    float64\n",
            " 2   mean perimeter           569 non-null    float64\n",
            " 3   mean area                569 non-null    float64\n",
            " 4   mean smoothness          569 non-null    float64\n",
            " 5   mean compactness         569 non-null    float64\n",
            " 6   mean concavity           569 non-null    float64\n",
            " 7   mean concave points      569 non-null    float64\n",
            " 8   mean symmetry            569 non-null    float64\n",
            " 9   mean fractal dimension   569 non-null    float64\n",
            " 10  radius error             569 non-null    float64\n",
            " 11  texture error            569 non-null    float64\n",
            " 12  perimeter error          569 non-null    float64\n",
            " 13  area error               569 non-null    float64\n",
            " 14  smoothness error         569 non-null    float64\n",
            " 15  compactness error        569 non-null    float64\n",
            " 16  concavity error          569 non-null    float64\n",
            " 17  concave points error     569 non-null    float64\n",
            " 18  symmetry error           569 non-null    float64\n",
            " 19  fractal dimension error  569 non-null    float64\n",
            " 20  worst radius             569 non-null    float64\n",
            " 21  worst texture            569 non-null    float64\n",
            " 22  worst perimeter          569 non-null    float64\n",
            " 23  worst area               569 non-null    float64\n",
            " 24  worst smoothness         569 non-null    float64\n",
            " 25  worst compactness        569 non-null    float64\n",
            " 26  worst concavity          569 non-null    float64\n",
            " 27  worst concave points     569 non-null    float64\n",
            " 28  worst symmetry           569 non-null    float64\n",
            " 29  worst fractal dimension  569 non-null    float64\n",
            " 30  label                    569 non-null    int64  \n",
            "dtypes: float64(30), int64(1)\n",
            "memory usage: 137.9 KB\n"
          ]
        }
      ]
    },
    {
      "cell_type": "code",
      "source": [
        "# check for missing values in df\n",
        "\n",
        "df.isnull().sum()"
      ],
      "metadata": {
        "colab": {
          "base_uri": "https://localhost:8080/"
        },
        "id": "R5k24RfCK6P1",
        "outputId": "f55829cb-75da-486f-ff96-0990100e7158"
      },
      "execution_count": 8,
      "outputs": [
        {
          "output_type": "execute_result",
          "data": {
            "text/plain": [
              "mean radius                0\n",
              "mean texture               0\n",
              "mean perimeter             0\n",
              "mean area                  0\n",
              "mean smoothness            0\n",
              "mean compactness           0\n",
              "mean concavity             0\n",
              "mean concave points        0\n",
              "mean symmetry              0\n",
              "mean fractal dimension     0\n",
              "radius error               0\n",
              "texture error              0\n",
              "perimeter error            0\n",
              "area error                 0\n",
              "smoothness error           0\n",
              "compactness error          0\n",
              "concavity error            0\n",
              "concave points error       0\n",
              "symmetry error             0\n",
              "fractal dimension error    0\n",
              "worst radius               0\n",
              "worst texture              0\n",
              "worst perimeter            0\n",
              "worst area                 0\n",
              "worst smoothness           0\n",
              "worst compactness          0\n",
              "worst concavity            0\n",
              "worst concave points       0\n",
              "worst symmetry             0\n",
              "worst fractal dimension    0\n",
              "label                      0\n",
              "dtype: int64"
            ]
          },
          "metadata": {},
          "execution_count": 8
        }
      ]
    },
    {
      "cell_type": "code",
      "source": [
        "# statistical measures of data\n",
        "\n",
        "df.describe()"
      ],
      "metadata": {
        "colab": {
          "base_uri": "https://localhost:8080/",
          "height": 428
        },
        "id": "gnCRP20cLgsd",
        "outputId": "9836e08f-3777-4af7-89f8-ee90a3c5b3e3"
      },
      "execution_count": 9,
      "outputs": [
        {
          "output_type": "execute_result",
          "data": {
            "text/plain": [
              "       mean radius  mean texture  mean perimeter    mean area  \\\n",
              "count   569.000000    569.000000      569.000000   569.000000   \n",
              "mean     14.127292     19.289649       91.969033   654.889104   \n",
              "std       3.524049      4.301036       24.298981   351.914129   \n",
              "min       6.981000      9.710000       43.790000   143.500000   \n",
              "25%      11.700000     16.170000       75.170000   420.300000   \n",
              "50%      13.370000     18.840000       86.240000   551.100000   \n",
              "75%      15.780000     21.800000      104.100000   782.700000   \n",
              "max      28.110000     39.280000      188.500000  2501.000000   \n",
              "\n",
              "       mean smoothness  mean compactness  mean concavity  mean concave points  \\\n",
              "count       569.000000        569.000000      569.000000           569.000000   \n",
              "mean          0.096360          0.104341        0.088799             0.048919   \n",
              "std           0.014064          0.052813        0.079720             0.038803   \n",
              "min           0.052630          0.019380        0.000000             0.000000   \n",
              "25%           0.086370          0.064920        0.029560             0.020310   \n",
              "50%           0.095870          0.092630        0.061540             0.033500   \n",
              "75%           0.105300          0.130400        0.130700             0.074000   \n",
              "max           0.163400          0.345400        0.426800             0.201200   \n",
              "\n",
              "       mean symmetry  mean fractal dimension  ...  worst texture  \\\n",
              "count     569.000000              569.000000  ...     569.000000   \n",
              "mean        0.181162                0.062798  ...      25.677223   \n",
              "std         0.027414                0.007060  ...       6.146258   \n",
              "min         0.106000                0.049960  ...      12.020000   \n",
              "25%         0.161900                0.057700  ...      21.080000   \n",
              "50%         0.179200                0.061540  ...      25.410000   \n",
              "75%         0.195700                0.066120  ...      29.720000   \n",
              "max         0.304000                0.097440  ...      49.540000   \n",
              "\n",
              "       worst perimeter   worst area  worst smoothness  worst compactness  \\\n",
              "count       569.000000   569.000000        569.000000         569.000000   \n",
              "mean        107.261213   880.583128          0.132369           0.254265   \n",
              "std          33.602542   569.356993          0.022832           0.157336   \n",
              "min          50.410000   185.200000          0.071170           0.027290   \n",
              "25%          84.110000   515.300000          0.116600           0.147200   \n",
              "50%          97.660000   686.500000          0.131300           0.211900   \n",
              "75%         125.400000  1084.000000          0.146000           0.339100   \n",
              "max         251.200000  4254.000000          0.222600           1.058000   \n",
              "\n",
              "       worst concavity  worst concave points  worst symmetry  \\\n",
              "count       569.000000            569.000000      569.000000   \n",
              "mean          0.272188              0.114606        0.290076   \n",
              "std           0.208624              0.065732        0.061867   \n",
              "min           0.000000              0.000000        0.156500   \n",
              "25%           0.114500              0.064930        0.250400   \n",
              "50%           0.226700              0.099930        0.282200   \n",
              "75%           0.382900              0.161400        0.317900   \n",
              "max           1.252000              0.291000        0.663800   \n",
              "\n",
              "       worst fractal dimension       label  \n",
              "count               569.000000  569.000000  \n",
              "mean                  0.083946    0.627417  \n",
              "std                   0.018061    0.483918  \n",
              "min                   0.055040    0.000000  \n",
              "25%                   0.071460    0.000000  \n",
              "50%                   0.080040    1.000000  \n",
              "75%                   0.092080    1.000000  \n",
              "max                   0.207500    1.000000  \n",
              "\n",
              "[8 rows x 31 columns]"
            ],
            "text/html": [
              "\n",
              "  <div id=\"df-8d6c6716-5444-4a0f-b7db-68c86f3529a5\">\n",
              "    <div class=\"colab-df-container\">\n",
              "      <div>\n",
              "<style scoped>\n",
              "    .dataframe tbody tr th:only-of-type {\n",
              "        vertical-align: middle;\n",
              "    }\n",
              "\n",
              "    .dataframe tbody tr th {\n",
              "        vertical-align: top;\n",
              "    }\n",
              "\n",
              "    .dataframe thead th {\n",
              "        text-align: right;\n",
              "    }\n",
              "</style>\n",
              "<table border=\"1\" class=\"dataframe\">\n",
              "  <thead>\n",
              "    <tr style=\"text-align: right;\">\n",
              "      <th></th>\n",
              "      <th>mean radius</th>\n",
              "      <th>mean texture</th>\n",
              "      <th>mean perimeter</th>\n",
              "      <th>mean area</th>\n",
              "      <th>mean smoothness</th>\n",
              "      <th>mean compactness</th>\n",
              "      <th>mean concavity</th>\n",
              "      <th>mean concave points</th>\n",
              "      <th>mean symmetry</th>\n",
              "      <th>mean fractal dimension</th>\n",
              "      <th>...</th>\n",
              "      <th>worst texture</th>\n",
              "      <th>worst perimeter</th>\n",
              "      <th>worst area</th>\n",
              "      <th>worst smoothness</th>\n",
              "      <th>worst compactness</th>\n",
              "      <th>worst concavity</th>\n",
              "      <th>worst concave points</th>\n",
              "      <th>worst symmetry</th>\n",
              "      <th>worst fractal dimension</th>\n",
              "      <th>label</th>\n",
              "    </tr>\n",
              "  </thead>\n",
              "  <tbody>\n",
              "    <tr>\n",
              "      <th>count</th>\n",
              "      <td>569.000000</td>\n",
              "      <td>569.000000</td>\n",
              "      <td>569.000000</td>\n",
              "      <td>569.000000</td>\n",
              "      <td>569.000000</td>\n",
              "      <td>569.000000</td>\n",
              "      <td>569.000000</td>\n",
              "      <td>569.000000</td>\n",
              "      <td>569.000000</td>\n",
              "      <td>569.000000</td>\n",
              "      <td>...</td>\n",
              "      <td>569.000000</td>\n",
              "      <td>569.000000</td>\n",
              "      <td>569.000000</td>\n",
              "      <td>569.000000</td>\n",
              "      <td>569.000000</td>\n",
              "      <td>569.000000</td>\n",
              "      <td>569.000000</td>\n",
              "      <td>569.000000</td>\n",
              "      <td>569.000000</td>\n",
              "      <td>569.000000</td>\n",
              "    </tr>\n",
              "    <tr>\n",
              "      <th>mean</th>\n",
              "      <td>14.127292</td>\n",
              "      <td>19.289649</td>\n",
              "      <td>91.969033</td>\n",
              "      <td>654.889104</td>\n",
              "      <td>0.096360</td>\n",
              "      <td>0.104341</td>\n",
              "      <td>0.088799</td>\n",
              "      <td>0.048919</td>\n",
              "      <td>0.181162</td>\n",
              "      <td>0.062798</td>\n",
              "      <td>...</td>\n",
              "      <td>25.677223</td>\n",
              "      <td>107.261213</td>\n",
              "      <td>880.583128</td>\n",
              "      <td>0.132369</td>\n",
              "      <td>0.254265</td>\n",
              "      <td>0.272188</td>\n",
              "      <td>0.114606</td>\n",
              "      <td>0.290076</td>\n",
              "      <td>0.083946</td>\n",
              "      <td>0.627417</td>\n",
              "    </tr>\n",
              "    <tr>\n",
              "      <th>std</th>\n",
              "      <td>3.524049</td>\n",
              "      <td>4.301036</td>\n",
              "      <td>24.298981</td>\n",
              "      <td>351.914129</td>\n",
              "      <td>0.014064</td>\n",
              "      <td>0.052813</td>\n",
              "      <td>0.079720</td>\n",
              "      <td>0.038803</td>\n",
              "      <td>0.027414</td>\n",
              "      <td>0.007060</td>\n",
              "      <td>...</td>\n",
              "      <td>6.146258</td>\n",
              "      <td>33.602542</td>\n",
              "      <td>569.356993</td>\n",
              "      <td>0.022832</td>\n",
              "      <td>0.157336</td>\n",
              "      <td>0.208624</td>\n",
              "      <td>0.065732</td>\n",
              "      <td>0.061867</td>\n",
              "      <td>0.018061</td>\n",
              "      <td>0.483918</td>\n",
              "    </tr>\n",
              "    <tr>\n",
              "      <th>min</th>\n",
              "      <td>6.981000</td>\n",
              "      <td>9.710000</td>\n",
              "      <td>43.790000</td>\n",
              "      <td>143.500000</td>\n",
              "      <td>0.052630</td>\n",
              "      <td>0.019380</td>\n",
              "      <td>0.000000</td>\n",
              "      <td>0.000000</td>\n",
              "      <td>0.106000</td>\n",
              "      <td>0.049960</td>\n",
              "      <td>...</td>\n",
              "      <td>12.020000</td>\n",
              "      <td>50.410000</td>\n",
              "      <td>185.200000</td>\n",
              "      <td>0.071170</td>\n",
              "      <td>0.027290</td>\n",
              "      <td>0.000000</td>\n",
              "      <td>0.000000</td>\n",
              "      <td>0.156500</td>\n",
              "      <td>0.055040</td>\n",
              "      <td>0.000000</td>\n",
              "    </tr>\n",
              "    <tr>\n",
              "      <th>25%</th>\n",
              "      <td>11.700000</td>\n",
              "      <td>16.170000</td>\n",
              "      <td>75.170000</td>\n",
              "      <td>420.300000</td>\n",
              "      <td>0.086370</td>\n",
              "      <td>0.064920</td>\n",
              "      <td>0.029560</td>\n",
              "      <td>0.020310</td>\n",
              "      <td>0.161900</td>\n",
              "      <td>0.057700</td>\n",
              "      <td>...</td>\n",
              "      <td>21.080000</td>\n",
              "      <td>84.110000</td>\n",
              "      <td>515.300000</td>\n",
              "      <td>0.116600</td>\n",
              "      <td>0.147200</td>\n",
              "      <td>0.114500</td>\n",
              "      <td>0.064930</td>\n",
              "      <td>0.250400</td>\n",
              "      <td>0.071460</td>\n",
              "      <td>0.000000</td>\n",
              "    </tr>\n",
              "    <tr>\n",
              "      <th>50%</th>\n",
              "      <td>13.370000</td>\n",
              "      <td>18.840000</td>\n",
              "      <td>86.240000</td>\n",
              "      <td>551.100000</td>\n",
              "      <td>0.095870</td>\n",
              "      <td>0.092630</td>\n",
              "      <td>0.061540</td>\n",
              "      <td>0.033500</td>\n",
              "      <td>0.179200</td>\n",
              "      <td>0.061540</td>\n",
              "      <td>...</td>\n",
              "      <td>25.410000</td>\n",
              "      <td>97.660000</td>\n",
              "      <td>686.500000</td>\n",
              "      <td>0.131300</td>\n",
              "      <td>0.211900</td>\n",
              "      <td>0.226700</td>\n",
              "      <td>0.099930</td>\n",
              "      <td>0.282200</td>\n",
              "      <td>0.080040</td>\n",
              "      <td>1.000000</td>\n",
              "    </tr>\n",
              "    <tr>\n",
              "      <th>75%</th>\n",
              "      <td>15.780000</td>\n",
              "      <td>21.800000</td>\n",
              "      <td>104.100000</td>\n",
              "      <td>782.700000</td>\n",
              "      <td>0.105300</td>\n",
              "      <td>0.130400</td>\n",
              "      <td>0.130700</td>\n",
              "      <td>0.074000</td>\n",
              "      <td>0.195700</td>\n",
              "      <td>0.066120</td>\n",
              "      <td>...</td>\n",
              "      <td>29.720000</td>\n",
              "      <td>125.400000</td>\n",
              "      <td>1084.000000</td>\n",
              "      <td>0.146000</td>\n",
              "      <td>0.339100</td>\n",
              "      <td>0.382900</td>\n",
              "      <td>0.161400</td>\n",
              "      <td>0.317900</td>\n",
              "      <td>0.092080</td>\n",
              "      <td>1.000000</td>\n",
              "    </tr>\n",
              "    <tr>\n",
              "      <th>max</th>\n",
              "      <td>28.110000</td>\n",
              "      <td>39.280000</td>\n",
              "      <td>188.500000</td>\n",
              "      <td>2501.000000</td>\n",
              "      <td>0.163400</td>\n",
              "      <td>0.345400</td>\n",
              "      <td>0.426800</td>\n",
              "      <td>0.201200</td>\n",
              "      <td>0.304000</td>\n",
              "      <td>0.097440</td>\n",
              "      <td>...</td>\n",
              "      <td>49.540000</td>\n",
              "      <td>251.200000</td>\n",
              "      <td>4254.000000</td>\n",
              "      <td>0.222600</td>\n",
              "      <td>1.058000</td>\n",
              "      <td>1.252000</td>\n",
              "      <td>0.291000</td>\n",
              "      <td>0.663800</td>\n",
              "      <td>0.207500</td>\n",
              "      <td>1.000000</td>\n",
              "    </tr>\n",
              "  </tbody>\n",
              "</table>\n",
              "<p>8 rows × 31 columns</p>\n",
              "</div>\n",
              "      <button class=\"colab-df-convert\" onclick=\"convertToInteractive('df-8d6c6716-5444-4a0f-b7db-68c86f3529a5')\"\n",
              "              title=\"Convert this dataframe to an interactive table.\"\n",
              "              style=\"display:none;\">\n",
              "        \n",
              "  <svg xmlns=\"http://www.w3.org/2000/svg\" height=\"24px\"viewBox=\"0 0 24 24\"\n",
              "       width=\"24px\">\n",
              "    <path d=\"M0 0h24v24H0V0z\" fill=\"none\"/>\n",
              "    <path d=\"M18.56 5.44l.94 2.06.94-2.06 2.06-.94-2.06-.94-.94-2.06-.94 2.06-2.06.94zm-11 1L8.5 8.5l.94-2.06 2.06-.94-2.06-.94L8.5 2.5l-.94 2.06-2.06.94zm10 10l.94 2.06.94-2.06 2.06-.94-2.06-.94-.94-2.06-.94 2.06-2.06.94z\"/><path d=\"M17.41 7.96l-1.37-1.37c-.4-.4-.92-.59-1.43-.59-.52 0-1.04.2-1.43.59L10.3 9.45l-7.72 7.72c-.78.78-.78 2.05 0 2.83L4 21.41c.39.39.9.59 1.41.59.51 0 1.02-.2 1.41-.59l7.78-7.78 2.81-2.81c.8-.78.8-2.07 0-2.86zM5.41 20L4 18.59l7.72-7.72 1.47 1.35L5.41 20z\"/>\n",
              "  </svg>\n",
              "      </button>\n",
              "      \n",
              "  <style>\n",
              "    .colab-df-container {\n",
              "      display:flex;\n",
              "      flex-wrap:wrap;\n",
              "      gap: 12px;\n",
              "    }\n",
              "\n",
              "    .colab-df-convert {\n",
              "      background-color: #E8F0FE;\n",
              "      border: none;\n",
              "      border-radius: 50%;\n",
              "      cursor: pointer;\n",
              "      display: none;\n",
              "      fill: #1967D2;\n",
              "      height: 32px;\n",
              "      padding: 0 0 0 0;\n",
              "      width: 32px;\n",
              "    }\n",
              "\n",
              "    .colab-df-convert:hover {\n",
              "      background-color: #E2EBFA;\n",
              "      box-shadow: 0px 1px 2px rgba(60, 64, 67, 0.3), 0px 1px 3px 1px rgba(60, 64, 67, 0.15);\n",
              "      fill: #174EA6;\n",
              "    }\n",
              "\n",
              "    [theme=dark] .colab-df-convert {\n",
              "      background-color: #3B4455;\n",
              "      fill: #D2E3FC;\n",
              "    }\n",
              "\n",
              "    [theme=dark] .colab-df-convert:hover {\n",
              "      background-color: #434B5C;\n",
              "      box-shadow: 0px 1px 3px 1px rgba(0, 0, 0, 0.15);\n",
              "      filter: drop-shadow(0px 1px 2px rgba(0, 0, 0, 0.3));\n",
              "      fill: #FFFFFF;\n",
              "    }\n",
              "  </style>\n",
              "\n",
              "      <script>\n",
              "        const buttonEl =\n",
              "          document.querySelector('#df-8d6c6716-5444-4a0f-b7db-68c86f3529a5 button.colab-df-convert');\n",
              "        buttonEl.style.display =\n",
              "          google.colab.kernel.accessAllowed ? 'block' : 'none';\n",
              "\n",
              "        async function convertToInteractive(key) {\n",
              "          const element = document.querySelector('#df-8d6c6716-5444-4a0f-b7db-68c86f3529a5');\n",
              "          const dataTable =\n",
              "            await google.colab.kernel.invokeFunction('convertToInteractive',\n",
              "                                                     [key], {});\n",
              "          if (!dataTable) return;\n",
              "\n",
              "          const docLinkHtml = 'Like what you see? Visit the ' +\n",
              "            '<a target=\"_blank\" href=https://colab.research.google.com/notebooks/data_table.ipynb>data table notebook</a>'\n",
              "            + ' to learn more about interactive tables.';\n",
              "          element.innerHTML = '';\n",
              "          dataTable['output_type'] = 'display_data';\n",
              "          await google.colab.output.renderOutput(dataTable, element);\n",
              "          const docLink = document.createElement('div');\n",
              "          docLink.innerHTML = docLinkHtml;\n",
              "          element.appendChild(docLink);\n",
              "        }\n",
              "      </script>\n",
              "    </div>\n",
              "  </div>\n",
              "  "
            ]
          },
          "metadata": {},
          "execution_count": 9
        }
      ]
    },
    {
      "cell_type": "code",
      "source": [
        "# checking distribution of target variables\n",
        "\n",
        "df['label'].value_counts()  # 0- Malignant (Cancerous tumour)  # 1- Benign (Non-Cancerous tumour)"
      ],
      "metadata": {
        "colab": {
          "base_uri": "https://localhost:8080/"
        },
        "id": "uKqzyidoLrO8",
        "outputId": "f57dc213-817a-4fd3-bf0e-161d78d23856"
      },
      "execution_count": 10,
      "outputs": [
        {
          "output_type": "execute_result",
          "data": {
            "text/plain": [
              "1    357\n",
              "0    212\n",
              "Name: label, dtype: int64"
            ]
          },
          "metadata": {},
          "execution_count": 10
        }
      ]
    },
    {
      "cell_type": "code",
      "source": [
        "df.groupby('label').mean()"
      ],
      "metadata": {
        "colab": {
          "base_uri": "https://localhost:8080/",
          "height": 271
        },
        "id": "PlxwJ4BiMOWa",
        "outputId": "95cc82e2-d32b-4658-9b92-eb4fe06b31aa"
      },
      "execution_count": 11,
      "outputs": [
        {
          "output_type": "execute_result",
          "data": {
            "text/plain": [
              "       mean radius  mean texture  mean perimeter   mean area  mean smoothness  \\\n",
              "label                                                                           \n",
              "0        17.462830     21.604906      115.365377  978.376415         0.102898   \n",
              "1        12.146524     17.914762       78.075406  462.790196         0.092478   \n",
              "\n",
              "       mean compactness  mean concavity  mean concave points  mean symmetry  \\\n",
              "label                                                                         \n",
              "0              0.145188        0.160775             0.087990       0.192909   \n",
              "1              0.080085        0.046058             0.025717       0.174186   \n",
              "\n",
              "       mean fractal dimension  ...  worst radius  worst texture  \\\n",
              "label                          ...                                \n",
              "0                    0.062680  ...     21.134811      29.318208   \n",
              "1                    0.062867  ...     13.379801      23.515070   \n",
              "\n",
              "       worst perimeter   worst area  worst smoothness  worst compactness  \\\n",
              "label                                                                      \n",
              "0           141.370330  1422.286321          0.144845           0.374824   \n",
              "1            87.005938   558.899440          0.124959           0.182673   \n",
              "\n",
              "       worst concavity  worst concave points  worst symmetry  \\\n",
              "label                                                          \n",
              "0             0.450606              0.182237        0.323468   \n",
              "1             0.166238              0.074444        0.270246   \n",
              "\n",
              "       worst fractal dimension  \n",
              "label                           \n",
              "0                     0.091530  \n",
              "1                     0.079442  \n",
              "\n",
              "[2 rows x 30 columns]"
            ],
            "text/html": [
              "\n",
              "  <div id=\"df-27d4da8d-47d3-4c45-acb2-7e444184ebcf\">\n",
              "    <div class=\"colab-df-container\">\n",
              "      <div>\n",
              "<style scoped>\n",
              "    .dataframe tbody tr th:only-of-type {\n",
              "        vertical-align: middle;\n",
              "    }\n",
              "\n",
              "    .dataframe tbody tr th {\n",
              "        vertical-align: top;\n",
              "    }\n",
              "\n",
              "    .dataframe thead th {\n",
              "        text-align: right;\n",
              "    }\n",
              "</style>\n",
              "<table border=\"1\" class=\"dataframe\">\n",
              "  <thead>\n",
              "    <tr style=\"text-align: right;\">\n",
              "      <th></th>\n",
              "      <th>mean radius</th>\n",
              "      <th>mean texture</th>\n",
              "      <th>mean perimeter</th>\n",
              "      <th>mean area</th>\n",
              "      <th>mean smoothness</th>\n",
              "      <th>mean compactness</th>\n",
              "      <th>mean concavity</th>\n",
              "      <th>mean concave points</th>\n",
              "      <th>mean symmetry</th>\n",
              "      <th>mean fractal dimension</th>\n",
              "      <th>...</th>\n",
              "      <th>worst radius</th>\n",
              "      <th>worst texture</th>\n",
              "      <th>worst perimeter</th>\n",
              "      <th>worst area</th>\n",
              "      <th>worst smoothness</th>\n",
              "      <th>worst compactness</th>\n",
              "      <th>worst concavity</th>\n",
              "      <th>worst concave points</th>\n",
              "      <th>worst symmetry</th>\n",
              "      <th>worst fractal dimension</th>\n",
              "    </tr>\n",
              "    <tr>\n",
              "      <th>label</th>\n",
              "      <th></th>\n",
              "      <th></th>\n",
              "      <th></th>\n",
              "      <th></th>\n",
              "      <th></th>\n",
              "      <th></th>\n",
              "      <th></th>\n",
              "      <th></th>\n",
              "      <th></th>\n",
              "      <th></th>\n",
              "      <th></th>\n",
              "      <th></th>\n",
              "      <th></th>\n",
              "      <th></th>\n",
              "      <th></th>\n",
              "      <th></th>\n",
              "      <th></th>\n",
              "      <th></th>\n",
              "      <th></th>\n",
              "      <th></th>\n",
              "      <th></th>\n",
              "    </tr>\n",
              "  </thead>\n",
              "  <tbody>\n",
              "    <tr>\n",
              "      <th>0</th>\n",
              "      <td>17.462830</td>\n",
              "      <td>21.604906</td>\n",
              "      <td>115.365377</td>\n",
              "      <td>978.376415</td>\n",
              "      <td>0.102898</td>\n",
              "      <td>0.145188</td>\n",
              "      <td>0.160775</td>\n",
              "      <td>0.087990</td>\n",
              "      <td>0.192909</td>\n",
              "      <td>0.062680</td>\n",
              "      <td>...</td>\n",
              "      <td>21.134811</td>\n",
              "      <td>29.318208</td>\n",
              "      <td>141.370330</td>\n",
              "      <td>1422.286321</td>\n",
              "      <td>0.144845</td>\n",
              "      <td>0.374824</td>\n",
              "      <td>0.450606</td>\n",
              "      <td>0.182237</td>\n",
              "      <td>0.323468</td>\n",
              "      <td>0.091530</td>\n",
              "    </tr>\n",
              "    <tr>\n",
              "      <th>1</th>\n",
              "      <td>12.146524</td>\n",
              "      <td>17.914762</td>\n",
              "      <td>78.075406</td>\n",
              "      <td>462.790196</td>\n",
              "      <td>0.092478</td>\n",
              "      <td>0.080085</td>\n",
              "      <td>0.046058</td>\n",
              "      <td>0.025717</td>\n",
              "      <td>0.174186</td>\n",
              "      <td>0.062867</td>\n",
              "      <td>...</td>\n",
              "      <td>13.379801</td>\n",
              "      <td>23.515070</td>\n",
              "      <td>87.005938</td>\n",
              "      <td>558.899440</td>\n",
              "      <td>0.124959</td>\n",
              "      <td>0.182673</td>\n",
              "      <td>0.166238</td>\n",
              "      <td>0.074444</td>\n",
              "      <td>0.270246</td>\n",
              "      <td>0.079442</td>\n",
              "    </tr>\n",
              "  </tbody>\n",
              "</table>\n",
              "<p>2 rows × 30 columns</p>\n",
              "</div>\n",
              "      <button class=\"colab-df-convert\" onclick=\"convertToInteractive('df-27d4da8d-47d3-4c45-acb2-7e444184ebcf')\"\n",
              "              title=\"Convert this dataframe to an interactive table.\"\n",
              "              style=\"display:none;\">\n",
              "        \n",
              "  <svg xmlns=\"http://www.w3.org/2000/svg\" height=\"24px\"viewBox=\"0 0 24 24\"\n",
              "       width=\"24px\">\n",
              "    <path d=\"M0 0h24v24H0V0z\" fill=\"none\"/>\n",
              "    <path d=\"M18.56 5.44l.94 2.06.94-2.06 2.06-.94-2.06-.94-.94-2.06-.94 2.06-2.06.94zm-11 1L8.5 8.5l.94-2.06 2.06-.94-2.06-.94L8.5 2.5l-.94 2.06-2.06.94zm10 10l.94 2.06.94-2.06 2.06-.94-2.06-.94-.94-2.06-.94 2.06-2.06.94z\"/><path d=\"M17.41 7.96l-1.37-1.37c-.4-.4-.92-.59-1.43-.59-.52 0-1.04.2-1.43.59L10.3 9.45l-7.72 7.72c-.78.78-.78 2.05 0 2.83L4 21.41c.39.39.9.59 1.41.59.51 0 1.02-.2 1.41-.59l7.78-7.78 2.81-2.81c.8-.78.8-2.07 0-2.86zM5.41 20L4 18.59l7.72-7.72 1.47 1.35L5.41 20z\"/>\n",
              "  </svg>\n",
              "      </button>\n",
              "      \n",
              "  <style>\n",
              "    .colab-df-container {\n",
              "      display:flex;\n",
              "      flex-wrap:wrap;\n",
              "      gap: 12px;\n",
              "    }\n",
              "\n",
              "    .colab-df-convert {\n",
              "      background-color: #E8F0FE;\n",
              "      border: none;\n",
              "      border-radius: 50%;\n",
              "      cursor: pointer;\n",
              "      display: none;\n",
              "      fill: #1967D2;\n",
              "      height: 32px;\n",
              "      padding: 0 0 0 0;\n",
              "      width: 32px;\n",
              "    }\n",
              "\n",
              "    .colab-df-convert:hover {\n",
              "      background-color: #E2EBFA;\n",
              "      box-shadow: 0px 1px 2px rgba(60, 64, 67, 0.3), 0px 1px 3px 1px rgba(60, 64, 67, 0.15);\n",
              "      fill: #174EA6;\n",
              "    }\n",
              "\n",
              "    [theme=dark] .colab-df-convert {\n",
              "      background-color: #3B4455;\n",
              "      fill: #D2E3FC;\n",
              "    }\n",
              "\n",
              "    [theme=dark] .colab-df-convert:hover {\n",
              "      background-color: #434B5C;\n",
              "      box-shadow: 0px 1px 3px 1px rgba(0, 0, 0, 0.15);\n",
              "      filter: drop-shadow(0px 1px 2px rgba(0, 0, 0, 0.3));\n",
              "      fill: #FFFFFF;\n",
              "    }\n",
              "  </style>\n",
              "\n",
              "      <script>\n",
              "        const buttonEl =\n",
              "          document.querySelector('#df-27d4da8d-47d3-4c45-acb2-7e444184ebcf button.colab-df-convert');\n",
              "        buttonEl.style.display =\n",
              "          google.colab.kernel.accessAllowed ? 'block' : 'none';\n",
              "\n",
              "        async function convertToInteractive(key) {\n",
              "          const element = document.querySelector('#df-27d4da8d-47d3-4c45-acb2-7e444184ebcf');\n",
              "          const dataTable =\n",
              "            await google.colab.kernel.invokeFunction('convertToInteractive',\n",
              "                                                     [key], {});\n",
              "          if (!dataTable) return;\n",
              "\n",
              "          const docLinkHtml = 'Like what you see? Visit the ' +\n",
              "            '<a target=\"_blank\" href=https://colab.research.google.com/notebooks/data_table.ipynb>data table notebook</a>'\n",
              "            + ' to learn more about interactive tables.';\n",
              "          element.innerHTML = '';\n",
              "          dataTable['output_type'] = 'display_data';\n",
              "          await google.colab.output.renderOutput(dataTable, element);\n",
              "          const docLink = document.createElement('div');\n",
              "          docLink.innerHTML = docLinkHtml;\n",
              "          element.appendChild(docLink);\n",
              "        }\n",
              "      </script>\n",
              "    </div>\n",
              "  </div>\n",
              "  "
            ]
          },
          "metadata": {},
          "execution_count": 11
        }
      ]
    },
    {
      "cell_type": "code",
      "source": [
        "# seperating the features and target\n",
        "\n",
        "X=df.drop(columns='label',axis=1)\n",
        "Y=df['label']"
      ],
      "metadata": {
        "id": "w-6SJlfUNFfN"
      },
      "execution_count": 12,
      "outputs": []
    },
    {
      "cell_type": "code",
      "source": [
        "# checking x & Y\n",
        "print(X)"
      ],
      "metadata": {
        "colab": {
          "base_uri": "https://localhost:8080/"
        },
        "id": "FZJVK6jzNkqr",
        "outputId": "9b90212b-d45a-4a0f-8f9f-3ad574061e5a"
      },
      "execution_count": 13,
      "outputs": [
        {
          "output_type": "stream",
          "name": "stdout",
          "text": [
            "     mean radius  mean texture  mean perimeter  mean area  mean smoothness  \\\n",
            "0          17.99         10.38          122.80     1001.0          0.11840   \n",
            "1          20.57         17.77          132.90     1326.0          0.08474   \n",
            "2          19.69         21.25          130.00     1203.0          0.10960   \n",
            "3          11.42         20.38           77.58      386.1          0.14250   \n",
            "4          20.29         14.34          135.10     1297.0          0.10030   \n",
            "..           ...           ...             ...        ...              ...   \n",
            "564        21.56         22.39          142.00     1479.0          0.11100   \n",
            "565        20.13         28.25          131.20     1261.0          0.09780   \n",
            "566        16.60         28.08          108.30      858.1          0.08455   \n",
            "567        20.60         29.33          140.10     1265.0          0.11780   \n",
            "568         7.76         24.54           47.92      181.0          0.05263   \n",
            "\n",
            "     mean compactness  mean concavity  mean concave points  mean symmetry  \\\n",
            "0             0.27760         0.30010              0.14710         0.2419   \n",
            "1             0.07864         0.08690              0.07017         0.1812   \n",
            "2             0.15990         0.19740              0.12790         0.2069   \n",
            "3             0.28390         0.24140              0.10520         0.2597   \n",
            "4             0.13280         0.19800              0.10430         0.1809   \n",
            "..                ...             ...                  ...            ...   \n",
            "564           0.11590         0.24390              0.13890         0.1726   \n",
            "565           0.10340         0.14400              0.09791         0.1752   \n",
            "566           0.10230         0.09251              0.05302         0.1590   \n",
            "567           0.27700         0.35140              0.15200         0.2397   \n",
            "568           0.04362         0.00000              0.00000         0.1587   \n",
            "\n",
            "     mean fractal dimension  ...  worst radius  worst texture  \\\n",
            "0                   0.07871  ...        25.380          17.33   \n",
            "1                   0.05667  ...        24.990          23.41   \n",
            "2                   0.05999  ...        23.570          25.53   \n",
            "3                   0.09744  ...        14.910          26.50   \n",
            "4                   0.05883  ...        22.540          16.67   \n",
            "..                      ...  ...           ...            ...   \n",
            "564                 0.05623  ...        25.450          26.40   \n",
            "565                 0.05533  ...        23.690          38.25   \n",
            "566                 0.05648  ...        18.980          34.12   \n",
            "567                 0.07016  ...        25.740          39.42   \n",
            "568                 0.05884  ...         9.456          30.37   \n",
            "\n",
            "     worst perimeter  worst area  worst smoothness  worst compactness  \\\n",
            "0             184.60      2019.0           0.16220            0.66560   \n",
            "1             158.80      1956.0           0.12380            0.18660   \n",
            "2             152.50      1709.0           0.14440            0.42450   \n",
            "3              98.87       567.7           0.20980            0.86630   \n",
            "4             152.20      1575.0           0.13740            0.20500   \n",
            "..               ...         ...               ...                ...   \n",
            "564           166.10      2027.0           0.14100            0.21130   \n",
            "565           155.00      1731.0           0.11660            0.19220   \n",
            "566           126.70      1124.0           0.11390            0.30940   \n",
            "567           184.60      1821.0           0.16500            0.86810   \n",
            "568            59.16       268.6           0.08996            0.06444   \n",
            "\n",
            "     worst concavity  worst concave points  worst symmetry  \\\n",
            "0             0.7119                0.2654          0.4601   \n",
            "1             0.2416                0.1860          0.2750   \n",
            "2             0.4504                0.2430          0.3613   \n",
            "3             0.6869                0.2575          0.6638   \n",
            "4             0.4000                0.1625          0.2364   \n",
            "..               ...                   ...             ...   \n",
            "564           0.4107                0.2216          0.2060   \n",
            "565           0.3215                0.1628          0.2572   \n",
            "566           0.3403                0.1418          0.2218   \n",
            "567           0.9387                0.2650          0.4087   \n",
            "568           0.0000                0.0000          0.2871   \n",
            "\n",
            "     worst fractal dimension  \n",
            "0                    0.11890  \n",
            "1                    0.08902  \n",
            "2                    0.08758  \n",
            "3                    0.17300  \n",
            "4                    0.07678  \n",
            "..                       ...  \n",
            "564                  0.07115  \n",
            "565                  0.06637  \n",
            "566                  0.07820  \n",
            "567                  0.12400  \n",
            "568                  0.07039  \n",
            "\n",
            "[569 rows x 30 columns]\n"
          ]
        }
      ]
    },
    {
      "cell_type": "code",
      "source": [
        "print(Y)"
      ],
      "metadata": {
        "colab": {
          "base_uri": "https://localhost:8080/"
        },
        "id": "7vQ0g4oWNshB",
        "outputId": "1d0cb365-a075-47c9-b04d-ba7e2b79cb88"
      },
      "execution_count": 14,
      "outputs": [
        {
          "output_type": "stream",
          "name": "stdout",
          "text": [
            "0      0\n",
            "1      0\n",
            "2      0\n",
            "3      0\n",
            "4      0\n",
            "      ..\n",
            "564    0\n",
            "565    0\n",
            "566    0\n",
            "567    0\n",
            "568    1\n",
            "Name: label, Length: 569, dtype: int64\n"
          ]
        }
      ]
    },
    {
      "cell_type": "markdown",
      "source": [
        "# training and testing data\n"
      ],
      "metadata": {
        "id": "p_GhACAdOShu"
      }
    },
    {
      "cell_type": "code",
      "source": [
        "# splitting data into training and testing set\n",
        "\n",
        "X_train,X_test,Y_train,Y_test=train_test_split(X,Y,test_size=0.2,random_state=2)"
      ],
      "metadata": {
        "id": "SFguu7YmNw79"
      },
      "execution_count": 15,
      "outputs": []
    },
    {
      "cell_type": "code",
      "source": [
        "# checking data shape\n",
        "\n",
        "print(X.shape,X_train.shape,X_test.shape)"
      ],
      "metadata": {
        "colab": {
          "base_uri": "https://localhost:8080/"
        },
        "id": "YoI17rKpOKA3",
        "outputId": "1124a3d7-1eeb-42a3-d303-bd8eb9fc4654"
      },
      "execution_count": 16,
      "outputs": [
        {
          "output_type": "stream",
          "name": "stdout",
          "text": [
            "(569, 30) (455, 30) (114, 30)\n"
          ]
        }
      ]
    },
    {
      "cell_type": "code",
      "source": [
        "# standerdise the data\n",
        "\n",
        "from sklearn.preprocessing import StandardScaler\n",
        "\n",
        "scaler=StandardScaler()\n",
        "\n",
        "X_train_std=scaler.fit_transform(X_train)\n",
        "X_test_std=scaler.transform(X_test)"
      ],
      "metadata": {
        "id": "vJ5wm-oiqLvR"
      },
      "execution_count": 17,
      "outputs": []
    },
    {
      "cell_type": "markdown",
      "source": [
        "# building neural network"
      ],
      "metadata": {
        "id": "MxhveTSGOvf0"
      }
    },
    {
      "cell_type": "markdown",
      "source": [
        "![neutral-network-diagram.svg](data:image/svg+xml;base64,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)"
      ],
      "metadata": {
        "id": "kPTEbJ08PO_A"
      }
    },
    {
      "cell_type": "code",
      "source": [
        "# importing tensflow and keras\n",
        "\n",
        "import tensorflow as tf\n",
        "from tensorflow import keras\n",
        "\n",
        "print(tf.__version__)\n",
        "\n",
        "tf.random.set_seed(3)"
      ],
      "metadata": {
        "id": "xjWLie09OzNB",
        "colab": {
          "base_uri": "https://localhost:8080/"
        },
        "outputId": "99aed130-1447-4fa3-af3d-2462e607864f"
      },
      "execution_count": 18,
      "outputs": [
        {
          "output_type": "stream",
          "name": "stdout",
          "text": [
            "2.12.0\n"
          ]
        }
      ]
    },
    {
      "cell_type": "code",
      "source": [
        "# setting up layers of neural network\n",
        "\n",
        "model = keras.Sequential([\n",
        "    keras.layers.Flatten(input_shape=(30,)),\n",
        "    keras.layers.Dense(20,activation='relu'),\n",
        "    keras.layers.Dense(2,activation='sigmoid')\n",
        "])"
      ],
      "metadata": {
        "id": "h6h9xw0WjyKE"
      },
      "execution_count": 19,
      "outputs": []
    },
    {
      "cell_type": "code",
      "source": [
        "# compiling the model\n",
        "\n",
        "model.compile(optimizer='adam',\n",
        "              loss='sparse_categorical_crossentropy',\n",
        "              metrics=['accuracy'])"
      ],
      "metadata": {
        "id": "btoRidOnmvbt"
      },
      "execution_count": 20,
      "outputs": []
    },
    {
      "cell_type": "code",
      "source": [
        "# training neural network\n",
        "\n",
        "history=model.fit(X_train_std,Y_train,validation_split=0.1,epochs=20)"
      ],
      "metadata": {
        "colab": {
          "base_uri": "https://localhost:8080/"
        },
        "id": "dsCnzxfIocep",
        "outputId": "43db16b0-7545-4bea-9a72-404262e5fe68"
      },
      "execution_count": 21,
      "outputs": [
        {
          "output_type": "stream",
          "name": "stdout",
          "text": [
            "Epoch 1/20\n",
            "13/13 [==============================] - 1s 35ms/step - loss: 0.6176 - accuracy: 0.6553 - val_loss: 0.5445 - val_accuracy: 0.7174\n",
            "Epoch 2/20\n",
            "13/13 [==============================] - 0s 8ms/step - loss: 0.3958 - accuracy: 0.8606 - val_loss: 0.3410 - val_accuracy: 0.9130\n",
            "Epoch 3/20\n",
            "13/13 [==============================] - 0s 9ms/step - loss: 0.2753 - accuracy: 0.9413 - val_loss: 0.2394 - val_accuracy: 0.9565\n",
            "Epoch 4/20\n",
            "13/13 [==============================] - 0s 12ms/step - loss: 0.2161 - accuracy: 0.9560 - val_loss: 0.1859 - val_accuracy: 0.9565\n",
            "Epoch 5/20\n",
            "13/13 [==============================] - 0s 6ms/step - loss: 0.1801 - accuracy: 0.9633 - val_loss: 0.1573 - val_accuracy: 0.9565\n",
            "Epoch 6/20\n",
            "13/13 [==============================] - 0s 7ms/step - loss: 0.1586 - accuracy: 0.9682 - val_loss: 0.1388 - val_accuracy: 0.9348\n",
            "Epoch 7/20\n",
            "13/13 [==============================] - 0s 8ms/step - loss: 0.1430 - accuracy: 0.9682 - val_loss: 0.1255 - val_accuracy: 0.9565\n",
            "Epoch 8/20\n",
            "13/13 [==============================] - 0s 9ms/step - loss: 0.1307 - accuracy: 0.9707 - val_loss: 0.1164 - val_accuracy: 0.9565\n",
            "Epoch 9/20\n",
            "13/13 [==============================] - 0s 8ms/step - loss: 0.1214 - accuracy: 0.9707 - val_loss: 0.1085 - val_accuracy: 0.9565\n",
            "Epoch 10/20\n",
            "13/13 [==============================] - 0s 10ms/step - loss: 0.1130 - accuracy: 0.9707 - val_loss: 0.1030 - val_accuracy: 0.9565\n",
            "Epoch 11/20\n",
            "13/13 [==============================] - 0s 7ms/step - loss: 0.1067 - accuracy: 0.9731 - val_loss: 0.0984 - val_accuracy: 0.9565\n",
            "Epoch 12/20\n",
            "13/13 [==============================] - 0s 8ms/step - loss: 0.1008 - accuracy: 0.9731 - val_loss: 0.0944 - val_accuracy: 0.9565\n",
            "Epoch 13/20\n",
            "13/13 [==============================] - 0s 11ms/step - loss: 0.0956 - accuracy: 0.9780 - val_loss: 0.0912 - val_accuracy: 0.9565\n",
            "Epoch 14/20\n",
            "13/13 [==============================] - 0s 8ms/step - loss: 0.0914 - accuracy: 0.9804 - val_loss: 0.0885 - val_accuracy: 0.9565\n",
            "Epoch 15/20\n",
            "13/13 [==============================] - 0s 8ms/step - loss: 0.0874 - accuracy: 0.9804 - val_loss: 0.0862 - val_accuracy: 0.9565\n",
            "Epoch 16/20\n",
            "13/13 [==============================] - 0s 8ms/step - loss: 0.0837 - accuracy: 0.9853 - val_loss: 0.0845 - val_accuracy: 0.9348\n",
            "Epoch 17/20\n",
            "13/13 [==============================] - 0s 6ms/step - loss: 0.0806 - accuracy: 0.9853 - val_loss: 0.0826 - val_accuracy: 0.9565\n",
            "Epoch 18/20\n",
            "13/13 [==============================] - 0s 7ms/step - loss: 0.0776 - accuracy: 0.9853 - val_loss: 0.0808 - val_accuracy: 0.9348\n",
            "Epoch 19/20\n",
            "13/13 [==============================] - 0s 8ms/step - loss: 0.0751 - accuracy: 0.9853 - val_loss: 0.0790 - val_accuracy: 0.9348\n",
            "Epoch 20/20\n",
            "13/13 [==============================] - 0s 7ms/step - loss: 0.0723 - accuracy: 0.9853 - val_loss: 0.0786 - val_accuracy: 0.9348\n"
          ]
        }
      ]
    },
    {
      "cell_type": "markdown",
      "source": [
        "#visualizing accuracy and loss"
      ],
      "metadata": {
        "id": "zuf33g0msG0l"
      }
    },
    {
      "cell_type": "code",
      "source": [
        "plt.plot(history.history['accuracy'])\n",
        "plt.plot(history.history['val_accuracy'])\n",
        "plt.title('model accuracy')\n",
        "plt.ylabel('accuracy')\n",
        "plt.xlabel('epochs')\n",
        "\n",
        "plt.legend(['training data ','validation data'],loc='lower right')"
      ],
      "metadata": {
        "colab": {
          "base_uri": "https://localhost:8080/",
          "height": 489
        },
        "id": "KE4nqx9ysL3N",
        "outputId": "406d4a50-9140-40fc-f624-4f1af1aff595"
      },
      "execution_count": 22,
      "outputs": [
        {
          "output_type": "execute_result",
          "data": {
            "text/plain": [
              "<matplotlib.legend.Legend at 0x7f64dcdaf310>"
            ]
          },
          "metadata": {},
          "execution_count": 22
        },
        {
          "output_type": "display_data",
          "data": {
            "text/plain": [
              "<Figure size 640x480 with 1 Axes>"
            ],
            "image/png": "[encoded data removed]"
          },
          "metadata": {}
        }
      ]
    },
    {
      "cell_type": "code",
      "source": [
        "plt.plot(history.history['loss'])\n",
        "plt.plot(history.history['val_loss'])\n",
        "plt.title('model loss')\n",
        "plt.ylabel('loss')\n",
        "plt.xlabel('epochs')\n",
        "\n",
        "plt.legend(['training data ','validation data'],loc='upper right')"
      ],
      "metadata": {
        "colab": {
          "base_uri": "https://localhost:8080/",
          "height": 489
        },
        "id": "nSIVNyXStueh",
        "outputId": "1e75759c-92e7-4c51-9e88-ca20acd62fec"
      },
      "execution_count": 23,
      "outputs": [
        {
          "output_type": "execute_result",
          "data": {
            "text/plain": [
              "<matplotlib.legend.Legend at 0x7f65353fdf60>"
            ]
          },
          "metadata": {},
          "execution_count": 23
        },
        {
          "output_type": "display_data",
          "data": {
            "text/plain": [
              "<Figure size 640x480 with 1 Axes>"
            ],
            "image/png": "[encoded data removed]"
          },
          "metadata": {}
        }
      ]
    },
    {
      "cell_type": "markdown",
      "source": [
        "# accuracy of model on test data"
      ],
      "metadata": {
        "id": "epczWPl0uN3w"
      }
    },
    {
      "cell_type": "code",
      "source": [
        "loss,accuracy=model.evaluate(X_test_std,Y_test)\n",
        "print(accuracy)"
      ],
      "metadata": {
        "colab": {
          "base_uri": "https://localhost:8080/"
        },
        "id": "Ix8wlRWKuRG8",
        "outputId": "9769c0cc-d023-4dfa-d289-d606816f556d"
      },
      "execution_count": 24,
      "outputs": [
        {
          "output_type": "stream",
          "name": "stdout",
          "text": [
            "4/4 [==============================] - 0s 6ms/step - loss: 0.0855 - accuracy: 0.9737\n",
            "0.9736841917037964\n"
          ]
        }
      ]
    },
    {
      "cell_type": "markdown",
      "source": [
        "# building predictive model on this data"
      ],
      "metadata": {
        "id": "zLX8aEdGumlc"
      }
    },
    {
      "cell_type": "code",
      "source": [
        "# understanding prediction values\n",
        "\n",
        "Y_pred=model.predict(X_test_std)\n",
        "print(X_test_std[0])\n",
        "print(Y_pred[0])\n",
        "\n",
        "# we are getting two values as output\n",
        "\n",
        "# benign probablity and malignant probablity"
      ],
      "metadata": {
        "colab": {
          "base_uri": "https://localhost:8080/"
        },
        "id": "TjF1Fpvsusb0",
        "outputId": "403cc422-14cd-4a69-877f-0c7a1e1c512b"
      },
      "execution_count": 25,
      "outputs": [
        {
          "output_type": "stream",
          "name": "stdout",
          "text": [
            "4/4 [==============================] - 1s 5ms/step\n",
            "[-0.04462793 -1.41612656 -0.05903514 -0.16234067  2.0202457  -0.11323672\n",
            "  0.18500609  0.47102419  0.63336386  0.26335737  0.53209124  2.62763999\n",
            "  0.62351167  0.11405261  1.01246781  0.41126289  0.63848593  2.88971815\n",
            " -0.41675911  0.74270853 -0.32983699 -1.67435595 -0.36854552 -0.38767294\n",
            "  0.32655007 -0.74858917 -0.54689089 -0.18278004 -1.23064515 -0.6268286 ]\n",
            "[0.6243711  0.87415886]\n"
          ]
        }
      ]
    },
    {
      "cell_type": "code",
      "source": [
        "# converting the prediction probablity to class labels\n",
        "\n",
        "Y_pred_labels=[np.argmax(i) for i in Y_pred]\n",
        "print(Y_pred_labels)"
      ],
      "metadata": {
        "colab": {
          "base_uri": "https://localhost:8080/"
        },
        "id": "IFpHSmS55Li5",
        "outputId": "bde47fa2-7786-4f7a-998b-8c4cfc2e1705"
      },
      "execution_count": 26,
      "outputs": [
        {
          "output_type": "stream",
          "name": "stdout",
          "text": [
            "[1, 1, 1, 0, 1, 0, 1, 1, 1, 1, 0, 1, 1, 1, 1, 0, 1, 1, 1, 0, 1, 1, 1, 1, 1, 0, 1, 1, 0, 0, 1, 1, 1, 0, 0, 1, 1, 1, 1, 1, 0, 0, 1, 1, 0, 1, 1, 1, 0, 0, 1, 0, 1, 1, 1, 1, 1, 1, 0, 1, 1, 0, 1, 0, 0, 1, 0, 0, 1, 0, 0, 0, 1, 0, 1, 0, 1, 1, 1, 0, 0, 0, 0, 1, 1, 0, 1, 1, 1, 0, 1, 1, 1, 0, 0, 1, 0, 0, 1, 1, 1, 0, 0, 0, 1, 1, 1, 1, 1, 1, 0, 0, 0, 0]\n"
          ]
        }
      ]
    },
    {
      "cell_type": "markdown",
      "source": [
        "# building the predictive system"
      ],
      "metadata": {
        "id": "huo2EqHp6Ag2"
      }
    },
    {
      "cell_type": "code",
      "source": [
        "input_data=(18.25,19.98,119.6,1040,0.09463,0.109,0.1127,0.074,0.1794,0.05742,0.4467,0.7732,3.18,53.91,0.004314,0.01382,0.02254,0.01039,0.01369,0.002179,22.88,27.66,153.2,1606,0.1442,0.2576,0.3784,0.1932,0.3063,0.08368)\n",
        "\n",
        "# changing data into np array\n",
        "input_data_as_np=np.asarray(input_data)\n",
        "\n",
        "#reshape the np array as we are predicting one array\n",
        "reshaped_data=input_data_as_np.reshape(1,-1)\n",
        "\n",
        "#standardising the input data\n",
        "std_data=scaler.transform(reshaped_data)\n",
        "\n",
        "#prediction\n",
        "prediction=model.predict(std_data)\n",
        "print(prediction)\n",
        "\n",
        "prediction_label=np.argmax(prediction)\n",
        "print(prediction_label)\n",
        "\n",
        "if(prediction_label==0):\n",
        "  print(\"It is a malignant tumour\")\n",
        "else:\n",
        "  print(\"It is a benign tumour\")"
      ],
      "metadata": {
        "colab": {
          "base_uri": "https://localhost:8080/"
        },
        "id": "bXPqXTNn6FYF",
        "outputId": "654e5fc0-4ac5-49f8-8d3c-bebbb254bee1"
      },
      "execution_count": 27,
      "outputs": [
        {
          "output_type": "stream",
          "name": "stdout",
          "text": [
            "1/1 [==============================] - 0s 42ms/step\n",
            "[[0.939759   0.05997717]]\n",
            "0\n",
            "It is a malignant tumour\n"
          ]
        },
        {
          "output_type": "stream",
          "name": "stderr",
          "text": [
            "/usr/local/lib/python3.10/dist-packages/sklearn/base.py:439: UserWarning: X does not have valid feature names, but StandardScaler was fitted with feature names\n",
            "  warnings.warn(\n"
          ]
        }
      ]
    },
    {
      "cell_type": "markdown",
      "source": [
        "#saving the trained model\n",
        "\n"
      ],
      "metadata": {
        "id": "08zbR2CLAzcV"
      }
    },
    {
      "cell_type": "code",
      "source": [
        "import pickle"
      ],
      "metadata": {
        "id": "M-r3aC3SA5FI"
      },
      "execution_count": 28,
      "outputs": []
    },
    {
      "cell_type": "code",
      "source": [
        "filename='cancer_detection.sav'\n",
        "pickle.dump(model,open(filename,'wb'))"
      ],
      "metadata": {
        "id": "g1-7NFejA7nO"
      },
      "execution_count": 29,
      "outputs": []
    },
    {
      "cell_type": "code",
      "source": [
        "# loading the model\n",
        "loaded_model=pickle.load(open('cancer_detection.sav','rb'))"
      ],
      "metadata": {
        "id": "rIat5JDDBOmy"
      },
      "execution_count": 30,
      "outputs": []
    },
    {
      "cell_type": "code",
      "source": [
        "#testing model\n",
        "\n",
        "input_data=(12.45,15.7,82.57,477.1,0.1278,0.17,0.1578,0.08089,0.2087,0.07613,0.3345,0.8902,2.217,27.19,0.00751,0.03345,0.03672,0.01137,0.02165,0.005082,15.47,23.75,103.4,741.6,0.1791,0.5249,0.5355,0.1741,0.3985,0.1244)\n",
        "\n",
        "# changing data into np array\n",
        "input_data_as_np=np.asarray(input_data)\n",
        "\n",
        "#reshape the np array as we are predicting one array\n",
        "reshaped_data=input_data_as_np.reshape(1,-1)\n",
        "\n",
        "#standardising the input data\n",
        "std_data=scaler.transform(reshaped_data)\n",
        "\n",
        "#prediction\n",
        "prediction=loaded_model.predict(std_data)\n",
        "print(prediction)\n",
        "\n",
        "prediction_label=np.argmax(prediction)\n",
        "print(prediction_label)\n",
        "\n",
        "if(prediction_label==0):\n",
        "  print(\"It is a malignant tumour\")\n",
        "else:\n",
        "  print(\"It is a benign tumour\")"
      ],
      "metadata": {
        "colab": {
          "base_uri": "https://localhost:8080/"
        },
        "id": "K8lC932gBgP0",
        "outputId": "1883f82d-e1a8-44cd-908e-29c752f41de4"
      },
      "execution_count": 31,
      "outputs": [
        {
          "output_type": "stream",
          "name": "stdout",
          "text": [
            "1/1 [==============================] - 0s 72ms/step\n",
            "[[0.6314874  0.35914445]]\n",
            "0\n",
            "It is a malignant tumour\n"
          ]
        },
        {
          "output_type": "stream",
          "name": "stderr",
          "text": [
            "/usr/local/lib/python3.10/dist-packages/sklearn/base.py:439: UserWarning: X does not have valid feature names, but StandardScaler was fitted with feature names\n",
            "  warnings.warn(\n"
          ]
        }
      ]
    }
  ]
}